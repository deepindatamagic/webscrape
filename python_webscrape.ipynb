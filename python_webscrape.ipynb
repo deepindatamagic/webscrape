{
  "cells": [
    {
      "cell_type": "code",
      "execution_count": null,
      "metadata": {
        "colab": {
          "base_uri": "https://localhost:8080/"
        },
        "id": "R8O_WVnalYPZ",
        "outputId": "84a2c7ac-106c-41d4-843a-fcf38393206e"
      },
      "outputs": [
        {
          "name": "stdout",
          "output_type": "stream",
          "text": [
            "Requirement already satisfied: beautifulsoup4 in /usr/local/lib/python3.7/dist-packages (4.6.3)\n"
          ]
        }
      ],
      "source": [
        "!pip install beautifulsoup4"
      ]
    },
    {
      "cell_type": "code",
      "execution_count": 2,
      "metadata": {
        "id": "vWqiy7MelMyd"
      },
      "outputs": [],
      "source": [
        "import requests\n",
        "from bs4 import BeautifulSoup\n",
        "import json\n",
        "import pandas as pd\n",
        "import re\n",
        "import csv\n",
        "\n",
        "# name  of dish, descriptions, price, name of types of pizza e.g. mexican\n",
        "# restuarant details"
      ]
    },
    {
      "cell_type": "markdown",
      "metadata": {
        "id": "j3YkMgTwVmCO"
      },
      "source": [
        "# Method 1: Analysing Data with HTML Tags"
      ]
    },
    {
      "cell_type": "markdown",
      "metadata": {
        "id": "1Jhls8H1lT2_"
      },
      "source": [
        "# Want: \n",
        "name  of dish, descriptions, price, name of types of pizza e.g. mexican, restuarant details"
      ]
    },
    {
      "cell_type": "code",
      "execution_count": 3,
      "metadata": {
        "colab": {
          "base_uri": "https://localhost:8080/"
        },
        "id": "vRWjQJgwlQXE",
        "outputId": "45ab9375-103e-4fcd-c189-2591f7f55355"
      },
      "outputs": [
        {
          "name": "stderr",
          "output_type": "stream",
          "text": [
            "/Library/Frameworks/Python.framework/Versions/3.7/lib/python3.7/site-packages/urllib3/connectionpool.py:851: InsecureRequestWarning: Unverified HTTPS request is being made. Adding certificate verification is strongly advised. See: https://urllib3.readthedocs.io/en/latest/advanced-usage.html#ssl-warnings\n",
            "  InsecureRequestWarning)\n"
          ]
        }
      ],
      "source": [
        "url = 'https://renespizza.com.au/'\n",
        "page = requests.get(url, verify=False)\n",
        "data = BeautifulSoup(page.text, 'html.parser')"
      ]
    },
    {
      "cell_type": "code",
      "execution_count": null,
      "metadata": {
        "colab": {
          "base_uri": "https://localhost:8080/"
        },
        "id": "82s54TSLlVjo",
        "outputId": "e180e56c-faed-430a-e883-a904fa86f31c"
      },
      "outputs": [],
      "source": [
        "print(data)"
      ]
    },
    {
      "cell_type": "markdown",
      "metadata": {
        "id": "m8g53-0WCG0E"
      },
      "source": [
        "**The Menu Section**\n",
        "\n",
        "In the HTML:\n",
        "\n",
        "<section data-speed=\"15\" id=\"menu\" itemprop=\"menu\">\n",
        "<div class=\"container\">\n",
        "<div class=\"row\">\n",
        "<h1 class=\"page-title col-md-12\">Our Menu </h1>\n",
        "<div class=\"menu\">\n",
        "<!-- Web Template V5 AWS MENU - Delivert Software © Copyright 2017-->\n",
        "<div class=\"5223 col-md-12 halfhalf panel panel-default\"><div class=\"panel-heading\"><h2 class=\"panel-title\"><span>Half/Half</span></h2></div><div class=\"clearfix\"></div><div class=\"menu-border\"></div><div class=\"menu_title_header\"></div><div class=\"panel-collapse\" id=\"collapsehalfhalf\"><div class=\"panel-body\"><div class=\"row\" id=\"menu-row\"><div class=\"spinner spinner-three-bounce\" id=\"loader\"><div class=\"bounce1\"></div><div class=\"bounce2\"></div><div class=\"bounce3\"></div></div><div class=\"menu-desc-no-img col-md-6 menu-item\" id=\"HalfHalf\"><h4>Half/Half<span class=\"menu-price\"></span><span class=\"dollar-symbol menu-prices\"> $</span><span class=\"menu-prices\">0.00</span></h4><p></p><hr/></div></div></div></div>\n",
        "<div class=\"menu_title_footer\"></div>\n",
        "</div><div class=\"99371 col-md-12 lunch special panel panel-default\"><div class=\"panel-heading\"><h2 class=\"panel-title\"><span>Lunch Special</span></h2></div><div class=\"clearfix\"></div><div class=\"menu-border\"></div><div class=\"menu_title_header\"></div><div class=\"panel-collapse\" id=\"collapselunch special\"><div class=\"panel-body\"><div class=\"row\" id=\"menu-row\"><div class=\"spinner spinner-three-bounce\" id=\"loader\"><div class=\"bounce1\"></div><div class=\"bounce2\"></div><div class=\"bounce3\"></div></div><div class=\"menu-desc-no-img col-md-6 menu-item\" id=\"LunchSpecial\"><h4>Lunch Special<span class=\"menu-price\"></span><span class=\"dollar-symbol menu-prices\"> $</span><span class=\"menu-prices\">10.00</span></h4><p>Any small traditional pizza + optional can of drink for only $2</p><hr/></div></div></div></div>\n",
        "<div class=\"menu_title_footer\"></div>\n",
        "</div><div class=\"5254 col-md-12 deals panel panel-default\"><div class=\"panel-heading\"><h2 class=\"panel-title\"><span>Deals</span></h2></div><div class=\"clearfix\"></div><div class=\"menu-border\"></div><div class=\"menu_title_header\"></div><div class=\"panel-collapse\" id=\"collapsedeals\"><div class=\"panel-body\"><div class=\"row\" id=\"menu-row\"><div class=\"spinner spinner-three-bounce\" id=\"loader\"><div class=\"bounce1\"></div><div class=\"bounce2\"></div><div class=\"bounce3\"></div></div><div class=\"menu-desc-img col-md-6 menu-item\" id=\"Deal1\"><img alt=\"\" class=\"menu-img\" id=\"deal 1-min.jpg\" src=\"https://deliverit-vhosts.s3-ap-southeast-2.amazonaws.com/renespizza.com.au/uploads/deal 1-min.jpg\"><div class=\"menu-desc\"><h4>Deal 1<span class=\"menu-price\"><span class=\"dollar-symbol menu-prices\"> $</span><span class=\"menu-prices\">26.00</span></span></h4><p>1 x Medium Traditional Pizza, 1 x Garlic Bread, 2 x Cans </p><hr/></div></img></div><div class=\"menu-desc-img col-md-6 menu-item\" id=\"Deal2\"><img alt=\"\" class=\"menu-img\" id=\"deal 2-min.jpg\" src=\"https://deliverit-vhosts.s3-ap-southeast-2.amazonaws.com/renespizza.com.au/uploads/deal 2-min.jpg\"/><div class=\"menu-desc\"><h4>Deal 2<span class=\"menu-price\"><span class=\"dollar-symbol menu-prices\"> $</span><span class=\"menu-prices\">32.00</span></span></h4><p>1 x Family Traditional Pizza, 1 x Small Garlic Pizza, 1 x 1.25L Drink</p><hr/></div></div><div class=\"menu-desc-img col-md-6 menu-item\" id=\"Deal3\"><img alt=\"\" class=\"menu-img\" id=\"deal 3-min.jpg\" src=\"https://deliverit-vhosts.s3-ap-southeast-2.amazonaws.com/renespizza.com.au/uploads/deal 3-min.jpg\"/><div class=\"menu-desc\"><h4>Deal 3<span class=\"menu-price\"><span class=\"dollar-symbol menu-prices\"> $</span><span class=\"menu-prices\">49.00</span></span></h4><p>2 x Family Traditional Pizzas, 1 x Garlic Bread, 1 x 1.25L Drink</p><hr/></div></div><div class=\"menu-desc-img col-md-6 menu-item\" id=\"Deal4\"><img alt=\"\" class=\"menu-img\" id=\"deal 4-min.jpg\" src=\"https://deliverit-vhosts.s3-ap-southeast-2.amazonaws.com/renespizza.com.au/uploads/deal 4-min.jpg\"/><div class=\"menu-desc\"><h4>Deal 4<span class=\"menu-price\"><span class=\"dollar-symbol menu-prices\"> $</span><span class=\"menu-prices\">65.00</span></span></h4><p>3 x Family Traditional Pizzas, 1 x Family Garlic Pizza or 2 x 1.25L Drinks</p><hr/></div></div><div class=\"menu-desc-img col-md-6 menu-item\" id=\"--WEBSPECIAL--\"><img alt=\"\" class=\"menu-img\" id=\"MAY SPECIAL-min.jpg\" src=\"https://deliverit-vhosts.s3-ap-southeast-2.amazonaws.com/renespizza.com.au/uploads/MAY SPECIAL-min.jpg\"/><div class=\"menu-desc\"><h4>--WEB SPECIAL--<span class=\"menu-price\"><span class=\"dollar-symbol menu-prices\"> $</span><span class=\"menu-prices\">49.00</span></span></h4><p>1 x Family traditional Pizza, 1 x Any Pasta, 1 x 1.25L Drink and 1 x Garlic Bread </p><hr/></div></div><div class=\"menu-desc-no-img col-md-6 menu-item\" id=\"DEAL5\"><h4>DEAL 5<span class=\"menu-price\"></span><span class=\"dollar-symbol menu-prices\"> $</span><span class=\"menu-prices\">49.00</span></h4><p>Any 2 family traditional pizzas and a family garlic pizza (enough for 4-5ppl)</p><hr/></div><div class=\"menu-desc-no-img col-md-6 menu-item\" id=\"DEAL6\"><h4>DEAL 6<span class=\"menu-price\"></span><span class=\"dollar-symbol menu-prices\"> $</span><span class=\"menu-prices\">72.00</span></h4><p>Any 4 family traditional pizzas (enough for 8-10ppl)</p><hr/></div></div></div></div>\n",
        "<div class=\"menu_title_footer\"></div>\n",
        "</div><div class=\"5212 col-md-12 traditional pizzas panel panel-default\"><div class=\"panel-heading\"><h2 class=\"panel-title\"><span>Traditional Pizzas</span></h2></div><div class=\"clearfix\"></div><div class=\"menu-border\"></div><div class=\"menu_title_header\"></div><div class=\"panel-collapse\" id=\"collapsetraditional pizzas\"><div class=\"panel-body\"><div class=\"row\" id=\"menu-row\"><div class=\"spinner spinner-three-bounce\" id=\"loader\"><div class=\"bounce1\"></div><div class=\"bounce2\"></div><div class=\"bounce3\"></div></div><div class=\"menu-desc-img col-md-6 menu-item\" id=\"RenesSpecial\"><img alt=\"\" class=\"menu-img\" id=\"renes special-min.jpg\" src=\"https://deliverit-vhosts.s3-ap-southeast-2.amazonaws.com/renespizza.com.au/uploads/renes special-min.jpg\"/><div class=\"menu-desc\"><h4 class=\"group\">Rene's Special<br/><span class=\"item-prices\"><span class=\"menu-prices\"><span id=\"item_price_0\">SML - <span class=\"dollar-symbol\">$</span>14.50 </span><span id=\"item_price_1\">MED - <span class=\"dollar-symbol\">$</span>19.00 </span><span id=\"item_price_2\">FAM - <span class=\"dollar-symbol\">$</span>22.00 </span></span></span></h4><p class=\"group\">Mushroom, pepperoni, green capsicum, anchovies &amp; black kalamata olives</p><hr/></div></div><div class=\"menu-desc-img col-md-6 menu-item\" id=\"Supreme\"><img alt=\"\" class=\"menu-img\" id=\"sup-min.jpg\" src=\"https://deliverit-vhosts.s3-ap-southeast-2.amazonaws.com/renespizza.com.au/uploads/sup-min.jpg\"/><div class=\"menu-desc\"><h4 class=\"group\">Supreme<br/><span class=\"item-prices\"><span class=\"menu-prices\"><span id=\"item_price_0\">SML - <span class=\"dollar-symbol\">$</span>14.50 </span><span id=\"item_price_1\">MED - <span class=\"dollar-symbol\">$</span>19.00 </span><span id=\"item_price_2\">FAM - <span class=\"dollar-symbol\">$</span>22.00 </span></span></span></h4><p class=\"group\">Ham, mushroom, cabanossi, pepperoni, onion, capsicum &amp; pineapple (olives &amp; anchovies only on your request)</p><hr/></div></div><div class=\"menu-desc-img col-md-6 menu-item\" id=\"Mexicana\"><img alt=\"\" class=\"menu-img\" id=\"mex-min.jpg\" src=\"https://deliverit-vhosts.s3-ap-southeast-2.amazonaws.com/renespizza.com.au/uploads/mex-min.jpg\"/><div class=\"menu-desc\"><h4 class=\"group\">Mexicana<br/><span class=\"item-prices\"><span class=\"menu-prices\"><span id=\"item_price_0\">SML - <span class=\"dollar-symbol\">$</span>14.50 </span><span id=\"item_price_1\">MED - <span class=\"dollar-symbol\">$</span>19.00 </span><span id=\"item_price_2\">FAM - <span class=\"dollar-symbol\">$</span>22.00 </span></span></span></h4><p class=\"group\">Ground seasoned beef mince, onion, capsicum and chili</p><hr/></div></div><div class=\"menu-desc-img col-md-6 menu-item\" id=\"Margherita\"><img alt=\"\" class=\"menu-img\" id=\"marg-min.jpg\" src=\"https://deliverit-vhosts.s3-ap-southeast-2.amazonaws.com/renespizza.com.au/uploads/marg-min.jpg\"/><div class=\"menu-desc\"><h4 class=\"group\">Margherita<br/><span class=\"item-prices\"><span class=\"menu-prices\"><span id=\"item_price_0\">SML - <span class=\"dollar-symbol\">$</span>14.50 </span><span id=\"item_price_1\">MED - <span class=\"dollar-symbol\">$</span>19.00 </span><span id=\"item_price_2\">FAM - <span class=\"dollar-symbol\">$</span>22.00 </span></span></span></h4><p class=\"group\">Extra mozzarella cheese &amp; tomato sauce</p><hr/></div></div><div class=\"menu-desc-img col-md-6 menu-item\" id=\"iVegetariani\"><img alt=\"\" class=\"menu-img\" id=\"veg-min.jpg\" src=\"https://deliverit-vhosts.s3-ap-southeast-2.amazonaws.com/renespizza.com.au/uploads/veg-min.jpg\"/><div class=\"menu-desc\"><h4 class=\"group\"><i>Vegetarian</i><br/><span class=\"item-prices\"><span class=\"menu-prices\"><span id=\"item_price_0\">SML - <span class=\"dollar-symbol\">$</span>14.50 </span><span id=\"item_price_1\">MED - <span class=\"dollar-symbol\">$</span>19.00 </span><span id=\"item_price_2\">FAM - <span class=\"dollar-symbol\">$</span>22.00 </span></span></span></h4><p class=\"group\">Mushroom, onion, capsicum, pineapple &amp; black kalamata olives</p><hr/></div></div><div class=\"menu-desc-img col-md-6 menu-item\" id=\"Americana\"><img alt=\"\" class=\"menu-img\" id=\"pep-min.jpg\" src=\"https://deliverit-vhosts.s3-ap-southeast-2.amazonaws.com/renespizza.com.au/uploads/pep-min.jpg\"/><div class=\"menu-desc\"><h4 class=\"group\">Americana<br/><span class=\"item-prices\"><span class=\"menu-prices\"><span id=\"item_price_0\">SML - <span class=\"dollar-symbol\">$</span>14.50 </span><span id=\"item_price_1\">MED - <span class=\"dollar-symbol\">$</span>19.00 </span><span id=\"item_price_2\">FAM - <span class=\"dollar-symbol\">$</span>22.00 </span></span></span></h4><p class=\"group\">Extra pepperoni</p><hr/></div></div><div class=\"menu-desc-img col-md-6 menu-item\" id=\"Hawaiian\"><img alt=\"\" class=\"menu-img\" id=\"hp-min.jpg\" src=\"https://deliverit-vhosts.s3-ap-southeast-2.amazonaws.com/renespizza.com.au/uploads/hp-min.jpg\"/><div class=\"menu-desc\"><h4 class=\"group\">Hawaiian<br/><span class=\"item-prices\"><span class=\"menu-prices\"><span id=\"item_price_0\">SML - <span class=\"dollar-symbol\">$</span>14.50 </span><span id=\"item_price_1\">MED - <span class=\"dollar-symbol\">$</span>19.00 </span><span id=\"item_price_2\">FAM - <span class=\"dollar-symbol\">$</span>22.00 </span></span></span></h4><p class=\"group\">Ham &amp; pineapple</p><hr/></div></div><div class=\"menu-desc-img col-md-6 menu-item\" id=\"iMushroomi\"><img alt=\"\" class=\"menu-img\" id=\"mush-min.jpg\" src=\"https://deliverit-vhosts.s3-ap-southeast-2.amazonaws.com/renespizza.com.au/uploads/mush-min.jpg\"/><div class=\"menu-desc\"><h4 class=\"group\"><i>Mushroom</i><br/><span class=\"item-prices\"><span class=\"menu-prices\"><span id=\"item_price_0\">SML - <span class=\"dollar-symbol\">$</span>14.50 </span><span id=\"item_price_1\">MED - <span class=\"dollar-symbol\">$</span>19.00 </span><span id=\"item_price_2\">FAM - <span class=\"dollar-symbol\">$</span>22.00 </span></span></span></h4><p class=\"group\">Extra mushroom</p><hr/></div></div><div class=\"menu-desc-img col-md-6 menu-item\" id=\"Marinara\"><img alt=\"\" class=\"menu-img\" id=\"marinara-min.jpg\" src=\"https://deliverit-vhosts.s3-ap-southeast-2.amazonaws.com/renespizza.com.au/uploads/marinara-min.jpg\"/><div class=\"menu-desc\"><h4 class=\"group\">Marinara<br/><span class=\"item-prices\"><span class=\"menu-prices\"><span id=\"item_price_0\">SML - <span class=\"dollar-symbol\">$</span>15.50 </span><span id=\"item_price_1\">MED - <span class=\"dollar-symbol\">$</span>20.00 </span><span id=\"item_price_2\">FAM - <span class=\"dollar-symbol\">$</span>23.00 </span></span></span></h4><p class=\"group\">Seafood mixture with garlic &amp; parsely</p><hr/></div></div><div class=\"menu-desc-img col-md-6 menu-item\" id=\"Caprice\"><img alt=\"\" class=\"menu-img\" id=\"cap-min.jpg\" src=\"https://deliverit-vhosts.s3-ap-southeast-2.amazonaws.com/renespizza.com.au/uploads/cap-min.jpg\"/><div class=\"menu-desc\"><h4 class=\"group\">Caprice<br/><span class=\"item-prices\"><span class=\"menu-prices\"><span id=\"item_price_0\">SML - <span class=\"dollar-symbol\">$</span>14.50 </span><span id=\"item_price_1\">MED - <span class=\"dollar-symbol\">$</span>19.00 </span><span id=\"item_price_2\">FAM - <span class=\"dollar-symbol\">$</span>22.00 </span></span></span></h4><p class=\"group\">Mushroom, ham, capsicum, anchovies &amp; black kalamata olives</p><hr/></div></div><div class=\"menu-desc-img col-md-6 menu-item\" id=\"Stinger\"><img alt=\"\" class=\"menu-img\" id=\"stinger-min.jpg\" src=\"https://deliverit-vhosts.s3-ap-southeast-2.amazonaws.com/renespizza.com.au/uploads/stinger-min.jpg\"/><div class=\"menu-desc\"><h4 class=\"group\">Stinger<br/><span class=\"item-prices\"><span class=\"menu-prices\"><span id=\"item_price_0\">SML - <span class=\"dollar-symbol\">$</span>14.50 </span><span id=\"item_price_1\">MED - <span class=\"dollar-symbol\">$</span>19.00 </span><span id=\"item_price_2\">FAM - <span class=\"dollar-symbol\">$</span>22.00 </span></span></span></h4><p class=\"group\">Pepperoni, onion, capsicum, and hot chili sauce</p><hr/></div></div><div class=\"menu-desc-img col-md-6 menu-item\" id=\"iRomai\"><img alt=\"\" class=\"menu-img\" id=\"roma-min.jpg\" src=\"https://deliverit-vhosts.s3-ap-southeast-2.amazonaws.com/renespizza.com.au/uploads/roma-min.jpg\"/><div class=\"menu-desc\"><h4 class=\"group\"><i>Roma</i><br/><span class=\"item-prices\"><span class=\"menu-prices\"><span id=\"item_price_0\">SML - <span class=\"dollar-symbol\">$</span>14.50 </span><span id=\"item_price_1\">MED - <span class=\"dollar-symbol\">$</span>19.00 </span><span id=\"item_price_2\">FAM - <span class=\"dollar-symbol\">$</span>22.00 </span></span></span></h4><p class=\"group\">Fresh tomato slices, basil, kalamata olives</p><hr/></div></div><div class=\"menu-desc-img col-md-6 menu-item\" id=\"FlameBeef\"><img alt=\"\" class=\"menu-img\" id=\"flame beef-min.jpg\" src=\"https://deliverit-vhosts.s3-ap-southeast-2.amazonaws.com/renespizza.com.au/uploads/flame beef-min.jpg\"/><div class=\"menu-desc\"><h4 class=\"group\">Flame (Beef)<br/><span class=\"item-prices\"><span class=\"menu-prices\"><span id=\"item_price_0\">SML - <span class=\"dollar-symbol\">$</span>14.50 </span><span id=\"item_price_1\">MED - <span class=\"dollar-symbol\">$</span>19.00 </span><span id=\"item_price_2\">FAM - <span class=\"dollar-symbol\">$</span>22.00 </span></span></span></h4><p class=\"group\">Beef, mushroom, onion, jalapenos, chili sauce &amp; chili flakes (hot)</p><hr/></div></div><div class=\"menu-desc-img col-md-6 menu-item\" id=\"FlameChicken\"><img alt=\"\" class=\"menu-img\" id=\"flame chick-min.jpg\" src=\"https://deliverit-vhosts.s3-ap-southeast-2.amazonaws.com/renespizza.com.au/uploads/flame chick-min.jpg\"/><div class=\"menu-desc\"><h4 class=\"group\">Flame (Chicken)<br/><span class=\"item-prices\"><span class=\"menu-prices\"><span id=\"item_price_0\">SML - <span class=\"dollar-symbol\">$</span>15.50 </span><span id=\"item_price_1\">MED - <span class=\"dollar-symbol\">$</span>20.00 </span><span id=\"item_price_2\">FAM - <span class=\"dollar-symbol\">$</span>23.00 </span></span></span></h4><p class=\"group\">Chicken, mushroom, onion, jalapenos, chili sauce &amp; chilli flakes (hot)</p><hr/></div></div><div class=\"menu-desc-img col-md-6 menu-item\" id=\"Blacktown\"><img alt=\"\" class=\"menu-img\" id=\"blacktown-min.jpg\" src=\"https://deliverit-vhosts.s3-ap-southeast-2.amazonaws.com/renespizza.com.au/uploads/blacktown-min.jpg\"/><div class=\"menu-desc\"><h4 class=\"group\">Blacktown<br/><span class=\"item-prices\"><span class=\"menu-prices\"><span id=\"item_price_0\">SML - <span class=\"dollar-symbol\">$</span>14.50 </span><span id=\"item_price_1\">MED - <span class=\"dollar-symbol\">$</span>19.00 </span><span id=\"item_price_2\">FAM - <span class=\"dollar-symbol\">$</span>22.00 </span></span></span></h4><p class=\"group\">Ham &amp; eggs</p><hr/></div></div><div class=\"menu-desc-img col-md-6 menu-item\" id=\"Napoli\"><img alt=\"\" class=\"menu-img\" id=\"nap-min.jpg\" src=\"https://deliverit-vhosts.s3-ap-southeast-2.amazonaws.com/renespizza.com.au/uploads/nap-min.jpg\"/><div class=\"menu-desc\"><h4 class=\"group\">Napoli<br/><span class=\"item-prices\"><span class=\"menu-prices\"><span id=\"item_price_0\">SML - <span class=\"dollar-symbol\">$</span>14.50 </span><span id=\"item_price_1\">MED - <span class=\"dollar-symbol\">$</span>19.00 </span><span id=\"item_price_2\">FAM - <span class=\"dollar-symbol\">$</span>22.00 </span></span></span></h4><p class=\"group\">Black Kalamata olives &amp; anchovies</p><hr/></div></div><div class=\"menu-desc-img col-md-6 menu-item\" id=\"FourSeasons\"><img alt=\"\" class=\"menu-img\" id=\"four seasons-min.jpg\" src=\"https://deliverit-vhosts.s3-ap-southeast-2.amazonaws.com/renespizza.com.au/uploads/four seasons-min.jpg\"/><div class=\"menu-desc\"><h4 class=\"group\">Four Seasons<br/><span class=\"item-prices\"><span class=\"menu-prices\"><span id=\"item_price_0\">SML - <span class=\"dollar-symbol\">$</span>15.50 </span><span id=\"item_price_1\">MED - <span class=\"dollar-symbol\">$</span>20.00 </span><span id=\"item_price_2\">FAM - <span class=\"dollar-symbol\">$</span>23.00 </span></span></span></h4><p class=\"group\">Ham, mushroom, capsicum &amp; prawns</p><hr/></div></div><div class=\"menu-desc-img col-md-6 menu-item\" id=\"BBQAllMeats\"><img alt=\"\" class=\"menu-img\" id=\"meats-min.jpg\" src=\"https://deliverit-vhosts.s3-ap-southeast-2.amazonaws.com/renespizza.com.au/uploads/meats-min.jpg\"/><div class=\"menu-desc\"><h4 class=\"group\">BBQ All Meats<br/><span class=\"item-prices\"><span class=\"menu-prices\"><span id=\"item_price_0\">SML - <span class=\"dollar-symbol\">$</span>14.50 </span><span id=\"item_price_1\">MED - <span class=\"dollar-symbol\">$</span>19.00 </span><span id=\"item_price_2\">FAM - <span class=\"dollar-symbol\">$</span>22.00 </span></span></span></h4><p class=\"group\">Ground beef, ham, cabanossi, pepperoni, bacon &amp; BBQ sauce</p><hr/></div></div><div class=\"menu-desc-img col-md-6 menu-item\" id=\"SatayChicken\"><img alt=\"\" class=\"menu-img\" id=\"satay chick-min.jpg\" src=\"https://deliverit-vhosts.s3-ap-southeast-2.amazonaws.com/renespizza.com.au/uploads/satay chick-min.jpg\"/><div class=\"menu-desc\"><h4 class=\"group\">Satay Chicken<br/><span class=\"item-prices\"><span class=\"menu-prices\"><span id=\"item_price_0\">SML - <span class=\"dollar-symbol\">$</span>15.50 </span><span id=\"item_price_1\">MED - <span class=\"dollar-symbol\">$</span>20.00 </span><span id=\"item_price_2\">FAM - <span class=\"dollar-symbol\">$</span>23.00 </span></span></span></h4><p class=\"group\">Satay sauce base, chicken, onion &amp; bacon</p><hr/></div></div><div class=\"menu-desc-img col-md-6 menu-item\" id=\"BBQChicken\"><img alt=\"\" class=\"menu-img\" id=\"bbq chick-min.jpg\" src=\"https://deliverit-vhosts.s3-ap-southeast-2.amazonaws.com/renespizza.com.au/uploads/bbq chick-min.jpg\"/><div class=\"menu-desc\"><h4 class=\"group\">BBQ Chicken<br/><span class=\"item-prices\"><span class=\"menu-prices\"><span id=\"item_price_0\">SML - <span class=\"dollar-symbol\">$</span>15.50 </span><span id=\"item_price_1\">MED - <span class=\"dollar-symbol\">$</span>20.00 </span><span id=\"item_price_2\">FAM - <span class=\"dollar-symbol\">$</span>23.00 </span></span></span></h4><p class=\"group\">Chicken, mushroom, onion &amp; BBQ sauce</p><hr/></div></div><div class=\"menu-desc-no-img col-md-6 menu-item\" id=\"Special\"><h4 class=\"group\">Special<br/><span class=\"menu-prices\"><span id=\"item_price_0\">SML - <span class=\"dollar-symbol\">$</span>14.50 </span><span id=\"item_price_1\">MED - <span class=\"dollar-symbol\">$</span>19.00 </span><span id=\"item_price_2\">FAM - <span class=\"dollar-symbol\">$</span>22.00 </span></span></h4><p class=\"group\">Mushroom, ham &amp; capsicum</p><hr/></div><div class=\"menu-desc-img col-md-6 menu-item\" id=\"Alcatraz\"><img alt=\"\" class=\"menu-img\" id=\"alcatraz-min.jpg\" src=\"https://deliverit-vhosts.s3-ap-southeast-2.amazonaws.com/renespizza.com.au/uploads/alcatraz-min.jpg\"/><div class=\"menu-desc\"><h4 class=\"group\">Alcatraz<br/><span class=\"item-prices\"><span class=\"menu-prices\"><span id=\"item_price_0\">SML - <span class=\"dollar-symbol\">$</span>14.50 </span><span id=\"item_price_1\">MED - <span class=\"dollar-symbol\">$</span>19.00 </span><span id=\"item_price_2\">FAM - <span class=\"dollar-symbol\">$</span>22.00 </span></span></span></h4><p class=\"group\">Ham &amp; onion</p><hr/></div></div><div class=\"menu-desc-img col-md-6 menu-item\" id=\"SamsSpecial\"><img alt=\"\" class=\"menu-img\" id=\"sams special-min.jpg\" src=\"https://deliverit-vhosts.s3-ap-southeast-2.amazonaws.com/renespizza.com.au/uploads/sams special-min.jpg\"/><div class=\"menu-desc\"><h4 class=\"group\">Sam's Special<br/><span class=\"item-prices\"><span class=\"menu-prices\"><span id=\"item_price_0\">SML - <span class=\"dollar-symbol\">$</span>14.50 </span><span id=\"item_price_1\">MED - <span class=\"dollar-symbol\">$</span>19.00 </span><span id=\"item_price_2\">FAM - <span class=\"dollar-symbol\">$</span>22.00 </span></span></span></h4><p class=\"group\">Cabanossi, onion and capsicum</p><hr/></div></div><div class=\"menu-desc-img col-md-6 menu-item\" id=\"Ham\"><img alt=\"\" class=\"menu-img\" id=\"ham-min.jpg\" src=\"https://deliverit-vhosts.s3-ap-southeast-2.amazonaws.com/renespizza.com.au/uploads/ham-min.jpg\"/><div class=\"menu-desc\"><h4 class=\"group\">Ham<br/><span class=\"item-prices\"><span class=\"menu-prices\"><span id=\"item_price_0\">SML - <span class=\"dollar-symbol\">$</span>14.50 </span><span id=\"item_price_1\">MED - <span class=\"dollar-symbol\">$</span>19.00 </span><span id=\"item_price_2\">FAM - <span class=\"dollar-symbol\">$</span>22.00 </span></span></span></h4><p class=\"group\">Extra ham</p><hr/></div></div></div></div></div>\n",
        "<div class=\"menu_title_footer\"></div>\n",
        "</div><div class=\"5213 col-md-12 gourmet pizzas panel panel-default\"><div class=\"panel-heading\"><h2 class=\"panel-title\"><span>Gourmet Pizzas</span></h2></div><div class=\"clearfix\"></div><div class=\"menu-border\"></div><div class=\"menu_title_header\"></div><div class=\"panel-collapse\" id=\"collapsegourmet pizzas\"><div class=\"panel-body\"><div class=\"row\" id=\"menu-row\"><div class=\"spinner spinner-three-bounce\" id=\"loader\"><div class=\"bounce1\"></div><div class=\"bounce2\"></div><div class=\"bounce3\"></div></div><div class=\"menu-desc-img col-md-6 menu-item\" id=\"Azzuri\"><img alt=\"\" class=\"menu-img\" id=\"azzuri-min.jpeg\" src=\"https://deliverit-vhosts.s3-ap-southeast-2.amazonaws.com/renespizza.com.au/uploads/azzuri-min.jpeg\"/><div class=\"menu-desc\"><h4 class=\"group\">Azzuri<br/><span class=\"item-prices\"><span class=\"menu-prices\"><span id=\"item_price_0\">MED - <span class=\"dollar-symbol\">$</span>21.00 </span><span id=\"item_price_1\">FAM - <span class=\"dollar-symbol\">$</span>25.00 </span></span></span></h4><p class=\"group\">Italian pepperoni, artichokes, bacon, onion, fresh tomato, ham &amp; oregano</p><hr/></div></div><div class=\"menu-desc-img col-md-6 menu-item\" id=\"ChickenDelight\"><img alt=\"\" class=\"menu-img\" id=\"chicken del-min.jpg\" src=\"https://deliverit-vhosts.s3-ap-southeast-2.amazonaws.com/renespizza.com.au/uploads/chicken del-min.jpg\"/><div class=\"menu-desc\"><h4 class=\"group\">Chicken Delight<br/><span class=\"item-prices\"><span class=\"menu-prices\"><span id=\"item_price_0\">MED - <span class=\"dollar-symbol\">$</span>23.00 </span><span id=\"item_price_1\">FAM - <span class=\"dollar-symbol\">$</span>27.00 </span></span></span></h4><p class=\"group\">Mushroom, chicken, capsicum, prawns, pineapple &amp; bacon</p><hr/></div></div><div class=\"menu-desc-img col-md-6 menu-item\" id=\"ElToro\"><img alt=\"\" class=\"menu-img\" id=\"el toro-min.jpg\" src=\"https://deliverit-vhosts.s3-ap-southeast-2.amazonaws.com/renespizza.com.au/uploads/el toro-min.jpg\"/><div class=\"menu-desc\"><h4 class=\"group\">El Toro<br/><span class=\"item-prices\"><span class=\"menu-prices\"><span id=\"item_price_0\">MED - <span class=\"dollar-symbol\">$</span>21.00 </span><span id=\"item_price_1\">FAM - <span class=\"dollar-symbol\">$</span>25.00 </span></span></span></h4><p class=\"group\">Salsa base, ground beef, roast red capsicum, onions &amp; jalapenos</p><hr/></div></div><div class=\"menu-desc-img col-md-6 menu-item\" id=\"Calabria\"><img alt=\"\" class=\"menu-img\" id=\"calabria-min.jpg\" src=\"https://deliverit-vhosts.s3-ap-southeast-2.amazonaws.com/renespizza.com.au/uploads/calabria-min.jpg\"/><div class=\"menu-desc\"><h4 class=\"group\">Calabria<br/><span class=\"item-prices\"><span class=\"menu-prices\"><span id=\"item_price_0\">MED - <span class=\"dollar-symbol\">$</span>21.00 </span><span id=\"item_price_1\">FAM - <span class=\"dollar-symbol\">$</span>25.00 </span></span></span></h4><p class=\"group\">Mushroom, Italian pepperoni, roast red capsicum, olives, eggplant, anchovies &amp; chili flakes</p><hr/></div></div><div class=\"menu-desc-img col-md-6 menu-item\" id=\"iTuscanVegetariani\"><img alt=\"\" class=\"menu-img\" id=\"tuscan-min.jpg\" src=\"https://deliverit-vhosts.s3-ap-southeast-2.amazonaws.com/renespizza.com.au/uploads/tuscan-min.jpg\"/><div class=\"menu-desc\"><h4 class=\"group\"><i>Tuscan (Vegetarian)</i><br/><span class=\"item-prices\"><span class=\"menu-prices\"><span id=\"item_price_0\">SML - <span class=\"dollar-symbol\">$</span>17.00 </span><span id=\"item_price_1\">MED - <span class=\"dollar-symbol\">$</span>21.00 </span><span id=\"item_price_2\">FAM - <span class=\"dollar-symbol\">$</span>25.00 </span></span></span></h4><p class=\"group\">Mushroom, roast red capsicum, eggplant, artichokes, sundried tomato, onion &amp; olives</p><hr/></div></div><div class=\"menu-desc-img col-md-6 menu-item\" id=\"MegaMeats\"><img alt=\"\" class=\"menu-img\" id=\"mega meats-min.jpg\" src=\"https://deliverit-vhosts.s3-ap-southeast-2.amazonaws.com/renespizza.com.au/uploads/mega meats-min.jpg\"/><div class=\"menu-desc\"><h4 class=\"group\">Mega Meats<br/><span class=\"item-prices\"><span class=\"menu-prices\"><span id=\"item_price_0\">MED - <span class=\"dollar-symbol\">$</span>21.00 </span><span id=\"item_price_1\">FAM - <span class=\"dollar-symbol\">$</span>25.00 </span></span></span></h4><p class=\"group\">Ground beef, ham, cabanossi, pepperoni, bacon &amp; chicken (BBQ sauce optional)</p><hr/></div></div><div class=\"menu-desc-img col-md-6 menu-item\" id=\"DeepSea\"><img alt=\"\" class=\"menu-img\" id=\"deep sea-min.jpg\" src=\"https://deliverit-vhosts.s3-ap-southeast-2.amazonaws.com/renespizza.com.au/uploads/deep sea-min.jpg\"/><div class=\"menu-desc\"><h4 class=\"group\">Deep Sea<br/><span class=\"item-prices\"><span class=\"menu-prices\"><span id=\"item_price_0\">MED - <span class=\"dollar-symbol\">$</span>23.00 </span><span id=\"item_price_1\">FAM - <span class=\"dollar-symbol\">$</span>27.00 </span></span></span></h4><p class=\"group\">Mixture of fresh seafood, marinated king prawns, garlic &amp; parsley</p><hr/></div></div><div class=\"menu-desc-img col-md-6 menu-item\" id=\"KingPrawn\"><img alt=\"\" class=\"menu-img\" id=\"king prawn-min.jpg\" src=\"https://deliverit-vhosts.s3-ap-southeast-2.amazonaws.com/renespizza.com.au/uploads/king prawn-min.jpg\"/><div class=\"menu-desc\"><h4 class=\"group\">King Prawn<br/><span class=\"item-prices\"><span class=\"menu-prices\"><span id=\"item_price_0\">MED - <span class=\"dollar-symbol\">$</span>23.00 </span><span id=\"item_price_1\">FAM - <span class=\"dollar-symbol\">$</span>27.00 </span></span></span></h4><p class=\"group\">garlic and tomato sauce base, king prawns, onions and fresh tomato</p><hr/></div></div></div></div></div>\n",
        "<div class=\"menu_title_footer\"></div>\n",
        "</div><div class=\"5214 col-md-12 garlic pizza and breads panel panel-default\"><div class=\"panel-heading\"><h2 class=\"panel-title\"><span>Garlic Pizza and Breads</span></h2></div><div class=\"clearfix\"></div><div class=\"menu-border\"></div><div class=\"menu_title_header\"></div><div class=\"panel-collapse\" id=\"collapsegarlic pizza and breads\"><div class=\"panel-body\"><div class=\"row\" id=\"menu-row\"><div class=\"spinner spinner-three-bounce\" id=\"loader\"><div class=\"bounce1\"></div><div class=\"bounce2\"></div><div class=\"bounce3\"></div></div><div class=\"menu-desc-img col-md-6 menu-item\" id=\"GarlicPizza\"><img alt=\"\" class=\"menu-img\" id=\"Garlic Pizza-min.jpg\" src=\"https://deliverit-vhosts.s3-ap-southeast-2.amazonaws.com/renespizza.com.au/uploads/Garlic Pizza-min.jpg\"/><div class=\"menu-desc\"><h4 class=\"group\">Garlic Pizza<br/><span class=\"item-prices\"><span class=\"menu-prices\"><span id=\"item_price_0\">SML - <span class=\"dollar-symbol\">$</span>8.50 </span><span id=\"item_price_1\">MED - <span class=\"dollar-symbol\">$</span>10.50 </span><span id=\"item_price_2\">FAM - <span class=\"dollar-symbol\">$</span>13.50 </span></span></span></h4><p class=\"group\"></p><hr/></div></div><div class=\"menu-desc-img col-md-6 menu-item\" id=\"HerbPizza\"><img alt=\"\" class=\"menu-img\" id=\"herb base-min.jpg\" src=\"https://deliverit-vhosts.s3-ap-southeast-2.amazonaws.com/renespizza.com.au/uploads/herb base-min.jpg\"/><div class=\"menu-desc\"><h4 class=\"group\">Herb Pizza<br/><span class=\"item-prices\"><span class=\"menu-prices\"><span id=\"item_price_0\">SML - <span class=\"dollar-symbol\">$</span>8.50 </span><span id=\"item_price_1\">MED - <span class=\"dollar-symbol\">$</span>10.50 </span><span id=\"item_price_2\">FAM - <span class=\"dollar-symbol\">$</span>13.50 </span></span></span></h4><p class=\"group\"></p><hr/></div></div><div class=\"menu-desc-img col-md-6 menu-item\" id=\"GarlicandMushroomPizza\"><img alt=\"\" class=\"menu-img\" id=\"garlic base +mush-min.jpg\" src=\"https://deliverit-vhosts.s3-ap-southeast-2.amazonaws.com/renespizza.com.au/uploads/garlic base +mush-min.jpg\"/><div class=\"menu-desc\"><h4 class=\"group\">Garlic and Mushroom Pizza<br/><span class=\"item-prices\"><span class=\"menu-prices\"><span id=\"item_price_0\">SML - <span class=\"dollar-symbol\">$</span>8.50 </span><span id=\"item_price_1\">MED - <span class=\"dollar-symbol\">$</span>10.50 </span><span id=\"item_price_2\">FAM - <span class=\"dollar-symbol\">$</span>13.50 </span></span></span></h4><p class=\"group\"></p><hr/></div></div><div class=\"menu-desc-img col-md-6 menu-item\" id=\"HERBBREAD\"><img alt=\"\" class=\"menu-img\" id=\"herb bread-min.jpg\" src=\"https://deliverit-vhosts.s3-ap-southeast-2.amazonaws.com/renespizza.com.au/uploads/herb bread-min.jpg\"/><div class=\"menu-desc\"><h4>HERB BREAD<span class=\"menu-price\"><span class=\"dollar-symbol menu-prices\"> $</span><span class=\"menu-prices\">6.00</span></span></h4><p></p><hr/></div></div><div class=\"menu-desc-img col-md-6 menu-item\" id=\"GARLICBREAD\"><img alt=\"\" class=\"menu-img\" id=\"galic bread-min.jpeg\" src=\"https://deliverit-vhosts.s3-ap-southeast-2.amazonaws.com/renespizza.com.au/uploads/galic bread-min.jpeg\"/><div class=\"menu-desc\"><h4>GARLIC BREAD<span class=\"menu-price\"><span class=\"dollar-symbol menu-prices\"> $</span><span class=\"menu-prices\">6.00</span></span></h4><p></p><hr/></div></div></div></div></div>\n",
        "<div class=\"menu_title_footer\"></div>\n",
        "</div><div class=\"5215 col-md-12 pasta menu panel panel-default\"><div class=\"panel-heading\"><h2 class=\"panel-title\"><span>Pasta Menu</span></h2></div><div class=\"clearfix\"></div><div class=\"menu-border\"></div><div class=\"menu_title_header\">All pasta sauce served with your choice of spaghetti, penne, tortellini or fettuccine.</div><div class=\"panel-collapse\" id=\"collapsepasta menu\"><div class=\"panel-body\"><div class=\"row\" id=\"menu-row\"><div class=\"spinner spinner-three-bounce\" id=\"loader\"><div class=\"bounce1\"></div><div class=\"bounce2\"></div><div class=\"bounce3\"></div></div><div class=\"menu-desc-img col-md-6 menu-item\" id=\"Pollo\"><img alt=\"\" class=\"menu-img\" id=\"penne pollo-min.jpg\" src=\"https://deliverit-vhosts.s3-ap-southeast-2.amazonaws.com/renespizza.com.au/uploads/penne pollo-min.jpg\"/><div class=\"menu-desc\"><h4>Pollo<span class=\"menu-price\"><span class=\"dollar-symbol menu-prices\"> $</span><span class=\"menu-prices\">19.50</span></span></h4><p>Tossed with chicken, semi dried tomato, mushroom, garlic and chilli cooked in a rosa sauce</p><hr/></div></div><div class=\"menu-desc-img col-md-6 menu-item\" id=\"Bolognese\"><img alt=\"\" class=\"menu-img\" id=\"spag bolg-min.jpg\" src=\"https://deliverit-vhosts.s3-ap-southeast-2.amazonaws.com/renespizza.com.au/uploads/spag bolg-min.jpg\"/><div class=\"menu-desc\"><h4>Bolognese<span class=\"menu-price\"><span class=\"dollar-symbol menu-prices\"> $</span><span class=\"menu-prices\">19.00</span></span></h4><p>Ground beef cooked in a rich traditional tomato sauce topped with parmesan cheese</p><hr/></div></div><div class=\"menu-desc-img col-md-6 menu-item\" id=\"Boscaiola\"><img alt=\"\" class=\"menu-img\" id=\"tort bosc-min.jpg\" src=\"https://deliverit-vhosts.s3-ap-southeast-2.amazonaws.com/renespizza.com.au/uploads/tort bosc-min.jpg\"/><div class=\"menu-desc\"><h4>Boscaiola<span class=\"menu-price\"><span class=\"dollar-symbol menu-prices\"> $</span><span class=\"menu-prices\">19.00</span></span></h4><p>Tossed with bacon, mushroom in a cream sauce finished with parmesan and fresh parsley</p><hr/></div></div><div class=\"menu-desc-img col-md-6 menu-item\" id=\"Marinara\"><img alt=\"\" class=\"menu-img\" id=\"spag marinara-min.jpg\" src=\"https://deliverit-vhosts.s3-ap-southeast-2.amazonaws.com/renespizza.com.au/uploads/spag marinara-min.jpg\"/><div class=\"menu-desc\"><h4>Marinara<span class=\"menu-price\"><span class=\"dollar-symbol menu-prices\"> $</span><span class=\"menu-prices\">23.00</span></span></h4><p>Served with medley of seafood, tossed in a Napoli sauce and fresh parsley</p><hr/></div></div><div class=\"menu-desc-img col-md-6 menu-item\" id=\"NAPOLITANA\"><img alt=\"\" class=\"menu-img\" id=\"penne nap-min.jpeg\" src=\"https://deliverit-vhosts.s3-ap-southeast-2.amazonaws.com/renespizza.com.au/uploads/penne nap-min.jpeg\"/><div class=\"menu-desc\"><h4>NAPOLITANA<span class=\"menu-price\"><span class=\"dollar-symbol menu-prices\"> $</span><span class=\"menu-prices\">16.00</span></span></h4><p>Traditional tomato sauce cooked with garlic and basil and topped with parmesan</p><hr/></div></div><div class=\"menu-desc-img col-md-6 menu-item\" id=\"Gamberi\"><img alt=\"\" class=\"menu-img\" id=\"fett gamberi-min.jpg\" src=\"https://deliverit-vhosts.s3-ap-southeast-2.amazonaws.com/renespizza.com.au/uploads/fett gamberi-min.jpg\"/><div class=\"menu-desc\"><h4>Gamberi<span class=\"menu-price\"><span class=\"dollar-symbol menu-prices\"> $</span><span class=\"menu-prices\">23.00</span></span></h4><p>Tossed with fresh prawns, peas and garlic in a rosa sauce</p><hr/></div></div><div class=\"menu-desc-img col-md-6 menu-item\" id=\"VEGETARIAN\"><img alt=\"\" class=\"menu-img\" id=\"fett veg-min.jpg\" src=\"https://deliverit-vhosts.s3-ap-southeast-2.amazonaws.com/renespizza.com.au/uploads/fett veg-min.jpg\"/><div class=\"menu-desc\"><h4>VEGETARIAN<span class=\"menu-price\"><span class=\"dollar-symbol menu-prices\"> $</span><span class=\"menu-prices\">19.50</span></span></h4><p>mushroom, semi dried tomato, capsicum and eggplant cooked in a rich tomato sauce finished with parmesan cheese</p><hr/></div></div><div class=\"menu-desc-img col-md-6 menu-item\" id=\"Lasagna\"><img alt=\"\" class=\"menu-img\" id=\"lasagna-min.jpg\" src=\"https://deliverit-vhosts.s3-ap-southeast-2.amazonaws.com/renespizza.com.au/uploads/lasagna-min.jpg\"/><div class=\"menu-desc\"><h4>Lasagna<span class=\"menu-price\"><span class=\"dollar-symbol menu-prices\"> $</span><span class=\"menu-prices\">18.00</span></span></h4><p>Bolognese sauce layered with fresh pasta sheets and mozzarella cheese</p><hr/></div></div></div></div></div>\n",
        "<div class=\"menu_title_footer\"></div>\n",
        "</div><div class=\"5216 col-md-12 salad panel panel-default\"><div class=\"panel-heading\"><h2 class=\"panel-title\"><span>Salad</span></h2></div><div class=\"clearfix\"></div><div class=\"menu-border\"></div><div class=\"menu_title_header\"></div><div class=\"panel-collapse\" id=\"collapsesalad\"><div class=\"panel-body\"><div class=\"row\" id=\"menu-row\"><div class=\"spinner spinner-three-bounce\" id=\"loader\"><div class=\"bounce1\"></div><div class=\"bounce2\"></div><div class=\"bounce3\"></div></div><div class=\"menu-desc-img col-md-6 menu-item\" id=\"CAESARSALAD\"><img alt=\"\" class=\"menu-img\" id=\"caesar-min.jpg\" src=\"https://deliverit-vhosts.s3-ap-southeast-2.amazonaws.com/renespizza.com.au/uploads/caesar-min.jpg\"/><div class=\"menu-desc\"><h4>CAESAR SALAD<span class=\"menu-price\"><span class=\"dollar-symbol menu-prices\"> $</span><span class=\"menu-prices\">14.00</span></span></h4><p></p><hr/></div></div><div class=\"menu-desc-img col-md-6 menu-item\" id=\"GARDENSALAD\"><img alt=\"\" class=\"menu-img\" id=\"file3-1-min.jpeg\" src=\"https://deliverit-vhosts.s3-ap-southeast-2.amazonaws.com/renespizza.com.au/uploads/file3-1-min.jpeg\"/><div class=\"menu-desc\"><h4>GARDEN SALAD<span class=\"menu-price\"><span class=\"dollar-symbol menu-prices\"> $</span><span class=\"menu-prices\">12.00</span></span></h4><p></p><hr/></div></div><div class=\"menu-desc-img col-md-6 menu-item\" id=\"GREEKSALAD\"><img alt=\"\" class=\"menu-img\" id=\"greek-min.jpg\" src=\"https://deliverit-vhosts.s3-ap-southeast-2.amazonaws.com/renespizza.com.au/uploads/greek-min.jpg\"/><div class=\"menu-desc\"><h4>GREEK SALAD<span class=\"menu-price\"><span class=\"dollar-symbol menu-prices\"> $</span><span class=\"menu-prices\">14.00</span></span></h4><p></p><hr/></div></div></div></div></div>\n",
        "<div class=\"menu_title_footer\"></div>\n",
        "</div><div class=\"5224 col-md-12 desserts panel panel-default\"><div class=\"panel-heading\"><h2 class=\"panel-title\"><span>Desserts</span></h2></div><div class=\"clearfix\"></div><div class=\"menu-border\"></div><div class=\"menu_title_header\">Ask our staff about our Gelateria, you can purcahase 500mls for only $10. Flavours such as Chioccolato, Rock Salt and Caramel, Sorbets and Vanilla Bean.</div><div class=\"panel-collapse\" id=\"collapsedesserts\"><div class=\"panel-body\"><div class=\"row\" id=\"menu-row\"><div class=\"spinner spinner-three-bounce\" id=\"loader\"><div class=\"bounce1\"></div><div class=\"bounce2\"></div><div class=\"bounce3\"></div></div><div class=\"menu-desc-img col-md-6 menu-item\" id=\"500MLGELATO\"><img alt=\"\" class=\"menu-img\" id=\"gelato-min.jpg\" src=\"https://deliverit-vhosts.s3-ap-southeast-2.amazonaws.com/renespizza.com.au/uploads/gelato-min.jpg\"/><div class=\"menu-desc\"><h4>500ML GELATO<span class=\"menu-price\"><span class=\"dollar-symbol menu-prices\"> $</span><span class=\"menu-prices\">10.00</span></span></h4><p></p><hr/></div></div></div></div></div>\n",
        "<div class=\"menu_title_footer\"></div>\n",
        "</div><div class=\"5230 col-md-12 drinks panel panel-default\"><div class=\"panel-heading\"><h2 class=\"panel-title\"><span>Drinks</span></h2></div><div class=\"clearfix\"></div><div class=\"menu-border\"></div><div class=\"menu_title_header\"></div><div class=\"panel-collapse\" id=\"collapsedrinks\"><div class=\"panel-body\"><div class=\"row\" id=\"menu-row\"><div class=\"spinner spinner-three-bounce\" id=\"loader\"><div class=\"bounce1\"></div><div class=\"bounce2\"></div><div class=\"bounce3\"></div></div><div class=\"menu-desc-img col-md-6 menu-item\" id=\"125COKE\"><img alt=\"\" class=\"menu-img\" id=\"Coca-Cola-1.25L.jpg\" src=\"https://deliverit-vhosts.s3-ap-southeast-2.amazonaws.com/renespizza.com.au/uploads/Coca-Cola-1.25L.jpg\"/><div class=\"menu-desc\"><h4>1.25 COKE<span class=\"menu-price\"><span class=\"dollar-symbol menu-prices\"> $</span><span class=\"menu-prices\">6.00</span></span></h4><p></p><hr/></div></div><div class=\"menu-desc-img col-md-6 menu-item\" id=\"125COKEZERO\"><img alt=\"\" class=\"menu-img\" id=\"244980.jpg\" src=\"https://deliverit-vhosts.s3-ap-southeast-2.amazonaws.com/renespizza.com.au/uploads/244980.jpg\"/><div class=\"menu-desc\"><h4>1.25 COKE ZERO<span class=\"menu-price\"><span class=\"dollar-symbol menu-prices\"> $</span><span class=\"menu-prices\">6.00</span></span></h4><p></p><hr/></div></div><div class=\"menu-desc-img col-md-6 menu-item\" id=\"125DIETCOKE\"><img alt=\"\" class=\"menu-img\" id=\"soft1270_1.jpg\" src=\"https://deliverit-vhosts.s3-ap-southeast-2.amazonaws.com/renespizza.com.au/uploads/soft1270_1.jpg\"/><div class=\"menu-desc\"><h4>1.25 DIET COKE<span class=\"menu-price\"><span class=\"dollar-symbol menu-prices\"> $</span><span class=\"menu-prices\">6.00</span></span></h4><p></p><hr/></div></div><div class=\"menu-desc-img col-md-6 menu-item\" id=\"125FANTA\"><img alt=\"\" class=\"menu-img\" id=\"032812_1 (1).jpg\" src=\"https://deliverit-vhosts.s3-ap-southeast-2.amazonaws.com/renespizza.com.au/uploads/032812_1 (1).jpg\"/><div class=\"menu-desc\"><h4>1.25 FANTA<span class=\"menu-price\"><span class=\"dollar-symbol menu-prices\"> $</span><span class=\"menu-prices\">6.00</span></span></h4><p></p><hr/></div></div><div class=\"menu-desc-img col-md-6 menu-item\" id=\"125LIFT\"><img alt=\"\" class=\"menu-img\" id=\"s072201-2d.jpg\" src=\"https://deliverit-vhosts.s3-ap-southeast-2.amazonaws.com/renespizza.com.au/uploads/s072201-2d.jpg\"/><div class=\"menu-desc\"><h4>1.25 LIFT<span class=\"menu-price\"><span class=\"dollar-symbol menu-prices\"> $</span><span class=\"menu-prices\">6.00</span></span></h4><p></p><hr/></div></div><div class=\"menu-desc-img col-md-6 menu-item\" id=\"125SPRITE\"><img alt=\"\" class=\"menu-img\" id=\"1Sprite-PET-Bottle-1.25L.jpg\" src=\"https://deliverit-vhosts.s3-ap-southeast-2.amazonaws.com/renespizza.com.au/uploads/1Sprite-PET-Bottle-1.25L.jpg\"/><div class=\"menu-desc\"><h4>1.25 SPRITE<span class=\"menu-price\"><span class=\"dollar-symbol menu-prices\"> $</span><span class=\"menu-prices\">6.00</span></span></h4><p></p><hr/></div></div><div class=\"menu-desc-img col-md-6 menu-item\" id=\"WATER\"><img alt=\"\" class=\"menu-img\" id=\"Peats Ridge2.png\" src=\"https://deliverit-vhosts.s3-ap-southeast-2.amazonaws.com/renespizza.com.au/uploads/Peats Ridge2.png\"/><div class=\"menu-desc\"><h4>WATER<span class=\"menu-price\"><span class=\"dollar-symbol menu-prices\"> $</span><span class=\"menu-prices\">3.00</span></span></h4><p></p><hr/></div></div></div></div></div>\n",
        "<div class=\"menu_title_footer\"></div>\n",
        "</div> </div>\n",
        "</div>\n",
        "</div>\n",
        "</section>"
      ]
    },
    {
      "cell_type": "markdown",
      "metadata": {
        "id": "YlPbxauvBByU"
      },
      "source": [
        "**Print the Web Page with Prettify**"
      ]
    },
    {
      "cell_type": "code",
      "execution_count": null,
      "metadata": {
        "id": "uqkKMypoA0Hg"
      },
      "outputs": [],
      "source": [
        "print(data.prettify())"
      ]
    },
    {
      "cell_type": "markdown",
      "metadata": {
        "id": "zysW7QWcFGNP"
      },
      "source": [
        "**The Menu**"
      ]
    },
    {
      "cell_type": "code",
      "execution_count": 6,
      "metadata": {
        "id": "KQPccWjbm_HY"
      },
      "outputs": [],
      "source": [
        "menu = data.find_all(\"div\",{\"class\":\"menu\"})"
      ]
    },
    {
      "cell_type": "code",
      "execution_count": null,
      "metadata": {
        "colab": {
          "base_uri": "https://localhost:8080/"
        },
        "id": "tcV6fPs5nMCC",
        "outputId": "cc07e141-e997-442a-e365-d3a2275ba324"
      },
      "outputs": [],
      "source": [
        "print(menu)"
      ]
    },
    {
      "cell_type": "code",
      "execution_count": null,
      "metadata": {
        "colab": {
          "base_uri": "https://localhost:8080/"
        },
        "id": "m7IZ0F-BHIP5",
        "outputId": "a4ba234a-8faa-4a43-980e-1b9ef6c152f0"
      },
      "outputs": [],
      "source": [
        "print(menu[0])"
      ]
    },
    {
      "cell_type": "code",
      "execution_count": null,
      "metadata": {
        "colab": {
          "base_uri": "https://localhost:8080/"
        },
        "id": "npbzx0DCGZvH",
        "outputId": "0d0b8280-9d27-4159-de8e-08c9303cb419"
      },
      "outputs": [],
      "source": [
        "print(menu[1])"
      ]
    },
    {
      "cell_type": "code",
      "execution_count": null,
      "metadata": {
        "colab": {
          "base_uri": "https://localhost:8080/"
        },
        "id": "--mcCHa0oZoN",
        "outputId": "b40bf7dc-6cbf-45da-ea34-d9949bc14263"
      },
      "outputs": [],
      "source": [
        "for items in menu:\n",
        "  print(items)"
      ]
    },
    {
      "cell_type": "code",
      "execution_count": null,
      "metadata": {
        "colab": {
          "base_uri": "https://localhost:8080/"
        },
        "id": "nylY9HeTo9Ng",
        "outputId": "83ae0b90-8e4b-4a4e-a050-39ad0cc7acfe"
      },
      "outputs": [],
      "source": [
        "for items in menu[:1]:\n",
        "  print(items)"
      ]
    },
    {
      "cell_type": "code",
      "execution_count": null,
      "metadata": {
        "colab": {
          "base_uri": "https://localhost:8080/"
        },
        "id": "VrwSxxKuHh8T",
        "outputId": "3d79e823-4745-4321-8bc2-a5d0ea45f6f5"
      },
      "outputs": [],
      "source": [
        "menu[1]"
      ]
    },
    {
      "cell_type": "code",
      "execution_count": 13,
      "metadata": {
        "id": "pxRr2YLOHqCK"
      },
      "outputs": [],
      "source": [
        "typical_items = menu[1]"
      ]
    },
    {
      "cell_type": "code",
      "execution_count": 14,
      "metadata": {
        "id": "xeW8Ib3dHxvu"
      },
      "outputs": [],
      "source": [
        "typical_items_content = typical_items.contents"
      ]
    },
    {
      "cell_type": "code",
      "execution_count": null,
      "metadata": {
        "colab": {
          "base_uri": "https://localhost:8080/"
        },
        "id": "5JxAzisOIDAL",
        "outputId": "7ae82064-6725-4842-c9fc-1c0688740a06"
      },
      "outputs": [],
      "source": [
        "print(typical_items_content)"
      ]
    },
    {
      "cell_type": "code",
      "execution_count": 16,
      "metadata": {
        "colab": {
          "base_uri": "https://localhost:8080/"
        },
        "id": "zQFpJs3hIcud",
        "outputId": "086305b2-5439-4e14-c109-baf5845bd877"
      },
      "outputs": [
        {
          "name": "stdout",
          "output_type": "stream",
          "text": [
            "<div class=\"panel-heading\"><h2 class=\"panel-title\"><span>Pasta Menu</span></h2></div>\n"
          ]
        }
      ],
      "source": [
        "print(typical_items_content[0])"
      ]
    },
    {
      "cell_type": "code",
      "execution_count": null,
      "metadata": {
        "colab": {
          "base_uri": "https://localhost:8080/"
        },
        "id": "BVteVKt1IiM5",
        "outputId": "08b3fbf5-61a6-4571-d713-00243bb3b9d5"
      },
      "outputs": [],
      "source": [
        "for idx in typical_items_content:\n",
        "  print(idx)"
      ]
    },
    {
      "cell_type": "markdown",
      "metadata": {
        "id": "ZgHtLMkNI3ZJ"
      },
      "source": [
        "<div class=\"panel-heading\"><h2 class=\"panel-title\"><span>Pasta Menu</span></h2></div>\n",
        "<div class=\"clearfix\"></div>\n",
        "<div class=\"menu-border\"></div>\n",
        "<div class=\"menu_title_header\">All pasta sauce served with your choice of spaghetti, penne, tortellini or fettuccine.</div>\n",
        "<div class=\"panel-collapse\" id=\"collapsepasta menu\"><div class=\"panel-body\"><div class=\"row\" id=\"menu-row\"><div class=\"spinner spinner-three-bounce\" id=\"loader\"><div class=\"bounce1\"></div><div class=\"bounce2\"></div><div class=\"bounce3\"></div></div><div class=\"menu-desc-img col-md-6 menu-item\" id=\"Pollo\"><img alt=\"\" class=\"menu-img\" id=\"penne pollo-min.jpg\" src=\"https://deliverit-vhosts.s3-ap-southeast-2.amazonaws.com/renespizza.com.au/uploads/penne pollo-min.jpg\"/><div class=\"menu-desc\"><h4>Pollo<span class=\"menu-price\"><span class=\"dollar-symbol menu-prices\"> $</span><span class=\"menu-prices\">19.50</span></span></h4><p>Tossed with chicken, semi dried tomato, mushroom, garlic and chilli cooked in a rosa sauce</p><hr/></div></div><div class=\"menu-desc-img col-md-6 menu-item\" id=\"Bolognese\"><img alt=\"\" class=\"menu-img\" id=\"spag bolg-min.jpg\" src=\"https://deliverit-vhosts.s3-ap-southeast-2.amazonaws.com/renespizza.com.au/uploads/spag bolg-min.jpg\"/><div class=\"menu-desc\"><h4>Bolognese<span class=\"menu-price\"><span class=\"dollar-symbol menu-prices\"> $</span><span class=\"menu-prices\">19.00</span></span></h4><p>Ground beef cooked in a rich traditional tomato sauce topped with parmesan cheese</p><hr/></div></div><div class=\"menu-desc-img col-md-6 menu-item\" id=\"Boscaiola\"><img alt=\"\" class=\"menu-img\" id=\"tort bosc-min.jpg\" src=\"https://deliverit-vhosts.s3-ap-southeast-2.amazonaws.com/renespizza.com.au/uploads/tort bosc-min.jpg\"/><div class=\"menu-desc\"><h4>Boscaiola<span class=\"menu-price\"><span class=\"dollar-symbol menu-prices\"> $</span><span class=\"menu-prices\">19.00</span></span></h4><p>Tossed with bacon, mushroom in a cream sauce finished with parmesan and fresh parsley</p><hr/></div></div><div class=\"menu-desc-img col-md-6 menu-item\" id=\"Marinara\"><img alt=\"\" class=\"menu-img\" id=\"spag marinara-min.jpg\" src=\"https://deliverit-vhosts.s3-ap-southeast-2.amazonaws.com/renespizza.com.au/uploads/spag marinara-min.jpg\"/><div class=\"menu-desc\"><h4>Marinara<span class=\"menu-price\"><span class=\"dollar-symbol menu-prices\"> $</span><span class=\"menu-prices\">23.00</span></span></h4><p>Served with medley of seafood, tossed in a Napoli sauce and fresh parsley</p><hr/></div></div><div class=\"menu-desc-img col-md-6 menu-item\" id=\"NAPOLITANA\"><img alt=\"\" class=\"menu-img\" id=\"penne nap-min.jpeg\" src=\"https://deliverit-vhosts.s3-ap-southeast-2.amazonaws.com/renespizza.com.au/uploads/penne nap-min.jpeg\"/><div class=\"menu-desc\"><h4>NAPOLITANA<span class=\"menu-price\"><span class=\"dollar-symbol menu-prices\"> $</span><span class=\"menu-prices\">16.00</span></span></h4><p>Traditional tomato sauce cooked with garlic and basil and topped with parmesan</p><hr/></div></div><div class=\"menu-desc-img col-md-6 menu-item\" id=\"Gamberi\"><img alt=\"\" class=\"menu-img\" id=\"fett gamberi-min.jpg\" src=\"https://deliverit-vhosts.s3-ap-southeast-2.amazonaws.com/renespizza.com.au/uploads/fett gamberi-min.jpg\"/><div class=\"menu-desc\"><h4>Gamberi<span class=\"menu-price\"><span class=\"dollar-symbol menu-prices\"> $</span><span class=\"menu-prices\">23.00</span></span></h4><p>Tossed with fresh prawns, peas and garlic in a rosa sauce</p><hr/></div></div><div class=\"menu-desc-img col-md-6 menu-item\" id=\"VEGETARIAN\"><img alt=\"\" class=\"menu-img\" id=\"fett veg-min.jpg\" src=\"https://deliverit-vhosts.s3-ap-southeast-2.amazonaws.com/renespizza.com.au/uploads/fett veg-min.jpg\"/><div class=\"menu-desc\"><h4>VEGETARIAN<span class=\"menu-price\"><span class=\"dollar-symbol menu-prices\"> $</span><span class=\"menu-prices\">19.50</span></span></h4><p>mushroom, semi dried tomato, capsicum and eggplant cooked in a rich tomato sauce finished with parmesan cheese</p><hr/></div></div><div class=\"menu-desc-img col-md-6 menu-item\" id=\"Lasagna\"><img alt=\"\" class=\"menu-img\" id=\"lasagna-min.jpg\" src=\"https://deliverit-vhosts.s3-ap-southeast-2.amazonaws.com/renespizza.com.au/uploads/lasagna-min.jpg\"/><div class=\"menu-desc\"><h4>Lasagna<span class=\"menu-price\"><span class=\"dollar-symbol menu-prices\"> $</span><span class=\"menu-prices\">18.00</span></span></h4><p>Bolognese sauce layered with fresh pasta sheets and mozzarella cheese</p><hr/></div></div></div></div></div>\n",
        "\n",
        "\n",
        "<div class=\"menu_title_footer\"></div>"
      ]
    },
    {
      "cell_type": "markdown",
      "metadata": {
        "id": "LRiTgCDXJTFo"
      },
      "source": [
        "**A Typical Menu Item**"
      ]
    },
    {
      "cell_type": "markdown",
      "metadata": {
        "id": "_rgUNqygJRZ9"
      },
      "source": [
        "<div class=\"panel-heading\"><h2 class=\"panel-title\"><span>Pasta Menu</span></h2></div>\n",
        "<div class=\"clearfix\"></div>\n",
        "<div class=\"menu-border\"></div>\n",
        "<div class=\"menu_title_header\">All pasta sauce served with your choice of spaghetti, penne, tortellini or fettuccine.</div>\n",
        "<div class=\"panel-collapse\" id=\"collapsepasta menu\"><div class=\"panel-body\"><div class=\"row\" id=\"menu-row\"><div class=\"spinner spinner-three-bounce\" id=\"loader\"><div class=\"bounce1\"></div><div class=\"bounce2\"></div><div class=\"bounce3\"></div></div><div class=\"menu-desc-img col-md-6 menu-item\" id=\"Pollo\"><img alt=\"\" class=\"menu-img\" id=\"penne pollo-min.jpg\" src=\"https://deliverit-vhosts.s3-ap-southeast-2.amazonaws.com/renespizza.com.au/uploads/penne pollo-min.jpg\"/><div class=\"menu-desc\"><h4>Pollo<span class=\"menu-price\"><span class=\"dollar-symbol menu-prices\"> $</span><span class=\"menu-prices\">19.50</span></span></h4><p>Tossed with chicken, semi dried tomato, mushroom, garlic and chilli cooked in a rosa sauce</p><hr/></div></div>"
      ]
    },
    {
      "cell_type": "markdown",
      "metadata": {
        "id": "-j3ANxerfmrI"
      },
      "source": [
        "And the HTML code looks like this:"
      ]
    },
    {
      "cell_type": "code",
      "execution_count": null,
      "metadata": {
        "id": "h7iaODvKMN3J"
      },
      "outputs": [],
      "source": [
        "<div class=\"panel-heading\"><h2 class=\"panel-title\"><span>Pasta Menu</span></h2></div>\n",
        "<div class=\"clearfix\"></div>\n",
        "<div class=\"menu-border\"></div>\n",
        "<div class=\"menu_title_header\">All pasta sauce served with your choice of spaghetti, penne, tortellini or fettuccine.</div>\n",
        "<div class=\"panel-collapse\" id=\"collapsepasta menu\"><div class=\"panel-body\"><div class=\"row\" id=\"menu-row\"><div class=\"spinner spinner-three-bounce\" id=\"loader\"><div class=\"bounce1\"></div><div class=\"bounce2\"></div><div class=\"bounce3\"></div></div><div class=\"menu-desc-img col-md-6 menu-item\" id=\"Pollo\"><img alt=\"\" class=\"menu-img\" id=\"penne pollo-min.jpg\" src=\"https://deliverit-vhosts.s3-ap-southeast-2.amazonaws.com/renespizza.com.au/uploads/penne pollo-min.jpg\"/><div class=\"menu-desc\"><h4>Pollo<span class=\"menu-price\"><span class=\"dollar-symbol menu-prices\"> $</span><span class=\"menu-prices\">19.50</span></span></h4><p>Tossed with chicken, semi dried tomato, mushroom, garlic and chilli cooked in a rosa sauce</p><hr/></div></div>"
      ]
    },
    {
      "cell_type": "markdown",
      "metadata": {
        "id": "3GJqYN5wfz5S"
      },
      "source": [
        "Meaning  what you are looking for are the text within each of those tags  - which you can do iteratively with Beautifulsoup."
      ]
    },
    {
      "cell_type": "markdown",
      "metadata": {
        "id": "VY9nBXkeVeAa"
      },
      "source": [
        "# Method 2: Stripping Away HTML Tags Immediately with Beautiful Soup"
      ]
    },
    {
      "cell_type": "code",
      "execution_count": 18,
      "metadata": {
        "colab": {
          "base_uri": "https://localhost:8080/"
        },
        "id": "6ylitX8CMVUC",
        "outputId": "abd92863-e511-4911-fa5b-d59c1aafa661"
      },
      "outputs": [
        {
          "name": "stderr",
          "output_type": "stream",
          "text": [
            "/Library/Frameworks/Python.framework/Versions/3.7/lib/python3.7/site-packages/urllib3/connectionpool.py:851: InsecureRequestWarning: Unverified HTTPS request is being made. Adding certificate verification is strongly advised. See: https://urllib3.readthedocs.io/en/latest/advanced-usage.html#ssl-warnings\n",
            "  InsecureRequestWarning)\n"
          ]
        }
      ],
      "source": [
        "url = 'https://renespizza.com.au/'\n",
        "page = requests.get(url, verify=False)\n",
        "data = BeautifulSoup(page.text)\n",
        "text_data = data.get_text()"
      ]
    },
    {
      "cell_type": "code",
      "execution_count": null,
      "metadata": {
        "id": "is3Qb7VuVbT7"
      },
      "outputs": [],
      "source": [
        "print(text_data)"
      ]
    },
    {
      "cell_type": "code",
      "execution_count": 20,
      "metadata": {
        "id": "jPgHkskNXt_3"
      },
      "outputs": [],
      "source": [
        "# remove scripts and style tags\n",
        "for script in data([\"script\", \"style\"]):\n",
        "    script.decompose()"
      ]
    },
    {
      "cell_type": "markdown",
      "metadata": {
        "id": "LPZp5FFPgGHl"
      },
      "source": [
        "This is going to be a list:"
      ]
    },
    {
      "cell_type": "code",
      "execution_count": null,
      "metadata": {
        "id": "iBVIWnu2dDbI"
      },
      "outputs": [],
      "source": [
        "my_reader = csv.reader(text_data.splitlines())\n",
        "for idx, row in enumerate(my_reader):\n",
        "  print(idx,row)"
      ]
    },
    {
      "cell_type": "code",
      "execution_count": 22,
      "metadata": {
        "id": "G7gg5Ok-hIpx"
      },
      "outputs": [
        {
          "name": "stdout",
          "output_type": "stream",
          "text": [
            "<class '_csv.reader'>\n"
          ]
        }
      ],
      "source": [
        "print(type(my_reader))"
      ]
    },
    {
      "cell_type": "code",
      "execution_count": null,
      "metadata": {
        "id": "wT341wqqjgYk"
      },
      "outputs": [],
      "source": [
        "my_reader = csv.reader(text_data.splitlines())\n",
        "for row in my_reader:\n",
        "  print(row)"
      ]
    },
    {
      "cell_type": "code",
      "execution_count": null,
      "metadata": {
        "id": "gLhq-lgGinJD"
      },
      "outputs": [],
      "source": [
        "with open('renespizza.csv', 'w', newline='') as file:\n",
        "    writer = csv.writer(file)\n",
        "    my_reader = csv.reader(text_data.splitlines())\n",
        "    for row in my_reader:\n",
        "      print(row)\n",
        "      writer.writerow(row)"
      ]
    },
    {
      "cell_type": "code",
      "execution_count": null,
      "metadata": {
        "id": "cQhJu0Jftbux"
      },
      "outputs": [],
      "source": [
        "with open('renespizza.csv', 'w', newline='') as file:\n",
        "    writer = csv.writer(file)\n",
        "    my_reader = csv.reader(text_data.splitlines())\n",
        "    for row in my_reader:\n",
        "      if any(row):\n",
        "        writer.writerow(row)\n",
        "        print(row)"
      ]
    },
    {
      "cell_type": "code",
      "execution_count": null,
      "metadata": {
        "id": "Ca6rVj1V-JuN"
      },
      "outputs": [],
      "source": [
        "my_reader = csv.reader(text_data.splitlines())\n",
        "for row in my_reader:\n",
        "  if any(row):\n",
        "    print(row)"
      ]
    },
    {
      "cell_type": "code",
      "execution_count": null,
      "metadata": {
        "colab": {
          "base_uri": "https://localhost:8080/"
        },
        "id": "2fW58LY4u0zW",
        "outputId": "eb644107-2aee-4a32-f333-46a3c89aacac"
      },
      "outputs": [
        {
          "name": "stderr",
          "output_type": "stream",
          "text": [
            "b'Skipping line 13: expected 1 fields, saw 3\\nSkipping line 14: expected 1 fields, saw 3\\nSkipping line 19: expected 1 fields, saw 10\\nSkipping line 20: expected 1 fields, saw 42\\nSkipping line 21: expected 1 fields, saw 31\\nSkipping line 23: expected 1 fields, saw 11\\nSkipping line 25: expected 1 fields, saw 4\\nSkipping line 32: expected 1 fields, saw 2\\nSkipping line 51: expected 1 fields, saw 2\\nSkipping line 67: expected 1 fields, saw 3\\n'\n"
          ]
        }
      ],
      "source": [
        "df = pd.read_csv('/content/drive/MyDrive/renespizza.csv', error_bad_lines=False)"
      ]
    },
    {
      "cell_type": "code",
      "execution_count": null,
      "metadata": {
        "colab": {
          "base_uri": "https://localhost:8080/"
        },
        "id": "ORJSc19fvIMF",
        "outputId": "d301ec48-d1f5-4167-82f2-80e5a9ec549e"
      },
      "outputs": [],
      "source": [
        "print(df)"
      ]
    },
    {
      "cell_type": "code",
      "execution_count": null,
      "metadata": {
        "colab": {
          "base_uri": "https://localhost:8080/",
          "height": 204
        },
        "id": "mOqCg2MVv32W",
        "outputId": "f83524b7-83ab-49b9-a53c-3fa000b16d7f"
      },
      "outputs": [
        {
          "data": {
            "text/html": [
              "<div>\n",
              "<style scoped>\n",
              "    .dataframe tbody tr th:only-of-type {\n",
              "        vertical-align: middle;\n",
              "    }\n",
              "\n",
              "    .dataframe tbody tr th {\n",
              "        vertical-align: top;\n",
              "    }\n",
              "\n",
              "    .dataframe thead th {\n",
              "        text-align: right;\n",
              "    }\n",
              "</style>\n",
              "<table border=\"1\" class=\"dataframe\">\n",
              "  <thead>\n",
              "    <tr style=\"text-align: right;\">\n",
              "      <th></th>\n",
              "      <th>Rene's Pizza Place Blacktown</th>\n",
              "    </tr>\n",
              "  </thead>\n",
              "  <tbody>\n",
              "    <tr>\n",
              "      <th>13</th>\n",
              "      <td>Lunch SpecialLunch Special $10.00Any small tra...</td>\n",
              "    </tr>\n",
              "    <tr>\n",
              "      <th>18</th>\n",
              "      <td>Rene's Pizza is an iconic pizzeria in Blacktow...</td>\n",
              "    </tr>\n",
              "    <tr>\n",
              "      <th>19</th>\n",
              "      <td>Rene's Blacktown has traditional style seating...</td>\n",
              "    </tr>\n",
              "    <tr>\n",
              "      <th>20</th>\n",
              "      <td>Our Pizza and Pasta menu has evolved over the ...</td>\n",
              "    </tr>\n",
              "    <tr>\n",
              "      <th>69</th>\n",
              "      <td>StuartWed 24th Apr 2019Great friendly service ...</td>\n",
              "    </tr>\n",
              "  </tbody>\n",
              "</table>\n",
              "</div>"
            ],
            "text/plain": [
              "                         Rene's Pizza Place Blacktown\n",
              "13  Lunch SpecialLunch Special $10.00Any small tra...\n",
              "18  Rene's Pizza is an iconic pizzeria in Blacktow...\n",
              "19  Rene's Blacktown has traditional style seating...\n",
              "20  Our Pizza and Pasta menu has evolved over the ...\n",
              "69  StuartWed 24th Apr 2019Great friendly service ..."
            ]
          },
          "execution_count": 23,
          "metadata": {
            "tags": []
          },
          "output_type": "execute_result"
        }
      ],
      "source": [
        "df[df['Rene\\'s Pizza Place Blacktown'].str.contains('pizza')]"
      ]
    },
    {
      "cell_type": "markdown",
      "metadata": {
        "id": "gov20tW6aq--"
      },
      "source": [
        "# Alternative Method"
      ]
    },
    {
      "cell_type": "code",
      "execution_count": null,
      "metadata": {
        "id": "ZF9xAZwtaw9J"
      },
      "outputs": [],
      "source": [
        "url = 'https://renespizza.com.au/'\n",
        "page = requests.get(url, verify=False)\n",
        "data = BeautifulSoup(page.text)\n",
        "text_data = data.get_text()"
      ]
    },
    {
      "cell_type": "code",
      "execution_count": null,
      "metadata": {
        "id": "-9ez0tFKX3lQ"
      },
      "outputs": [],
      "source": [
        "text_clean = data.get_text()"
      ]
    },
    {
      "cell_type": "code",
      "execution_count": null,
      "metadata": {
        "id": "FZRhNhgnYKHf"
      },
      "outputs": [],
      "source": [
        "text_lines = (line.strip() for line in text_clean.splitlines())"
      ]
    },
    {
      "cell_type": "code",
      "execution_count": null,
      "metadata": {
        "id": "RcNjQKLhYeyo"
      },
      "outputs": [],
      "source": [
        "chunks = (phrase.strip() for line in text_lines for phrase in line.split(\"  \"))"
      ]
    },
    {
      "cell_type": "code",
      "execution_count": null,
      "metadata": {
        "id": "s5C2h_qtYwS3"
      },
      "outputs": [],
      "source": [
        "text_only = '\\n'.join(chunk for chunk in chunks if chunk)"
      ]
    },
    {
      "cell_type": "code",
      "execution_count": null,
      "metadata": {
        "id": "mnEn868ofgDx"
      },
      "outputs": [],
      "source": [
        "print(text_only)"
      ]
    }
  ],
  "metadata": {
    "colab": {
      "collapsed_sections": [],
      "name": "python_webscrape.ipynb",
      "provenance": [],
      "toc_visible": true
    },
    "kernelspec": {
      "display_name": "Python 3.7.4 64-bit",
      "name": "python374jvsc74a57bd0e534e48711db4d1e1c48977d0d14ff85b1f16d41bcc4fdfd88268a329b3c9d66"
    },
    "language_info": {
      "codemirror_mode": {
        "name": "ipython",
        "version": 3
      },
      "file_extension": ".py",
      "mimetype": "text/x-python",
      "name": "python",
      "nbconvert_exporter": "python",
      "pygments_lexer": "ipython3",
      "version": "3.7.4-final"
    },
    "metadata": {
      "interpreter": {
        "hash": "e534e48711db4d1e1c48977d0d14ff85b1f16d41bcc4fdfd88268a329b3c9d66"
      }
    }
  },
  "nbformat": 4,
  "nbformat_minor": 0
}